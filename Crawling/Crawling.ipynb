{
 "cells": [
  {
   "cell_type": "code",
   "execution_count": 25,
   "id": "efa98bac",
   "metadata": {},
   "outputs": [
    {
     "name": "stdout",
     "output_type": "stream",
     "text": [
      "<selenium.webdriver.chrome.webdriver.WebDriver (session=\"de5ef19d818408c60ee864b5dea9fb45\")>\n"
     ]
    }
   ],
   "source": [
    "from selenium import webdriver\n",
    "\n",
    "# 변경된 selenium 문법 import\n",
    "from selenium.webdriver.common.by import By \n",
    "\n",
    "from time import sleep\n",
    "\n",
    "options = webdriver.ChromeOptions()\n",
    "options.add_experimental_option(\"excludeSwitches\", [\"enable-logging\"])\n",
    "driver = webdriver.Chrome(options=options)\n",
    "print(driver)\n",
    "driver.get('https://google.com')  # google.com에 접속한다.\n",
    "driver.get('https://nid.naver.com/nidlogin.login')  # 네이버 로그인에 접속한다."
   ]
  },
  {
   "cell_type": "code",
   "execution_count": 26,
   "id": "bfb234a6",
   "metadata": {},
   "outputs": [],
   "source": [
    "driver.find_element(By.ID, 'id').send_keys('test')"
   ]
  },
  {
   "cell_type": "code",
   "execution_count": 27,
   "id": "132e5938",
   "metadata": {},
   "outputs": [],
   "source": [
    "driver.find_element(By.ID, 'pw').send_keys('111111')"
   ]
  },
  {
   "cell_type": "code",
   "execution_count": 28,
   "id": "637854a8",
   "metadata": {},
   "outputs": [],
   "source": [
    "driver.find_element(By.XPATH, '//*[@id=\"log.login\"]').click()"
   ]
  },
  {
   "cell_type": "code",
   "execution_count": null,
   "id": "99c20be5",
   "metadata": {},
   "outputs": [],
   "source": []
  }
 ],
 "metadata": {
  "kernelspec": {
   "display_name": "Python 3 (ipykernel)",
   "language": "python",
   "name": "python3"
  },
  "language_info": {
   "codemirror_mode": {
    "name": "ipython",
    "version": 3
   },
   "file_extension": ".py",
   "mimetype": "text/x-python",
   "name": "python",
   "nbconvert_exporter": "python",
   "pygments_lexer": "ipython3",
   "version": "3.11.4"
  }
 },
 "nbformat": 4,
 "nbformat_minor": 5
}
